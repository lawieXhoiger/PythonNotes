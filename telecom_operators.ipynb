{
 "cells": [
  {
   "cell_type": "markdown",
   "metadata": {},
   "source": [
    "# 通过聚类识别登陆养卡群体"
   ]
  },
  {
   "cell_type": "code",
   "execution_count": null,
   "metadata": {},
   "outputs": [],
   "source": [
    "import matplotlib.pylab as plt\n",
    "import numpy as np\n",
    "import pandas as pd\n",
    "from sklearn.cluster import DBSCAN\n",
    "from mpl_toolkits.mplot3d import Axes3D\n",
    "from matplotlib.ticker import MultipleLocator,FormatStrFormatter\n",
    "import warnings\n",
    "warnings.filterwarnings('ignore')\n",
    "%matplotlib inline"
   ]
  },
  {
   "cell_type": "markdown",
   "metadata": {},
   "source": [
    "## 连接hive 数据库"
   ]
  },
  {
   "cell_type": "code",
   "execution_count": null,
   "metadata": {},
   "outputs": [],
   "source": [
    "from pyhive import hive\n",
    "cursor = hive.connect(host='192.168.1.106',post=10000,\n",
    "                username='root',database='zjyd3').cursor()\n",
    "cursor.execute('select * from temp_wqf_log_info_04')\n",
    "a = cursor.fetchall()\n",
    "alldata = pd.DataFrame(a,columns=['phonenumber','sl','ips_pro','imeis_pro','timecv','fail_pro'])\n",
    "del a "
   ]
  },
  {
   "cell_type": "markdown",
   "metadata": {},
   "source": [
    "## 数据标准化"
   ]
  },
  {
   "cell_type": "code",
   "execution_count": null,
   "metadata": {},
   "outputs": [],
   "source": [
    "from sklearn.preprocessing import MinMaxScaler\n",
    "train_data = alldata[['sl','ips_pro','imeis_pro','timecv']]\n",
    "train_data.fillna(0,inplace=True)\n",
    "scaler = MinMaxScaler()\n",
    "train_data = scaler.fit_transform(train_data)"
   ]
  },
  {
   "cell_type": "markdown",
   "metadata": {},
   "source": [
    "## 模型选择优化"
   ]
  },
  {
   "cell_type": "code",
   "execution_count": null,
   "metadata": {},
   "outputs": [],
   "source": [
    "from sklearn.cluster import KMeans\n",
    "from sklearn.metrics import silhouette_score\n",
    "from sklearn.metrics import calinski_harabaz_score\n",
    "n_class = []\n",
    "ch_values = []\n",
    "for i in range(10):\n",
    "    n_cluster = i + 2\n",
    "    print(n_class)\n",
    "    clf = KMeans(n_clusters=n_cluster,random_state=0)\n",
    "    label = clf.fit_predict(train_data)\n",
    "    ch_values.append(calinski_harabaz_score(train_data,label))\n",
    "    n_class.append(n_cluster)\n",
    "plt.plot(n_class,ch_values,label='First line',linewidth=3,\n",
    "         color='r',marker='o',markerfacecolor='blue',\n",
    "         markersize=12)\n",
    "ax = plt.subplot(111)\n",
    "x_major_Locator = MultipleLocator(1)\n",
    "x_major_Formatter = FormatStrFormatter('%5.0f')\n",
    "ax.xaxis.set_major_locator(x_major_Locator)\n",
    "ax.xaxis.set_major_formatter(x_major_Formatter)\n",
    "plt.xlabel('n_class')\n",
    "plt.ylabel('ch values')"
   ]
  },
  {
   "cell_type": "markdown",
   "metadata": {},
   "source": []
  }
 ],
 "metadata": {
  "kernelspec": {
   "display_name": "Python 2",
   "language": "python",
   "name": "python2"
  },
  "language_info": {
   "codemirror_mode": {
    "name": "ipython",
    "version": 2
   },
   "file_extension": ".py",
   "mimetype": "text/x-python",
   "name": "python",
   "nbconvert_exporter": "python",
   "pygments_lexer": "ipython2",
   "version": "2.7.6"
  }
 },
 "nbformat": 4,
 "nbformat_minor": 0
}
